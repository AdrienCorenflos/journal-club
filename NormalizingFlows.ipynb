{
 "cells": [
  {
   "cell_type": "markdown",
   "metadata": {
    "slideshow": {
     "slide_type": "slide"
    }
   },
   "source": [
    "# Normalizing Flows\n",
    "## A short stroll from discrete to continuous time\n",
    "<br><br>\n",
    "## Aalto University, EEA\n",
    "Adrien Corenflos, 26.10.2020 🎂"
   ]
  },
  {
   "cell_type": "markdown",
   "metadata": {
    "slideshow": {
     "slide_type": "subslide"
    }
   },
   "source": [
    "# Outline"
   ]
  },
  {
   "cell_type": "markdown",
   "metadata": {
    "slideshow": {
     "slide_type": "fragment"
    }
   },
   "source": [
    "1. Generative models"
   ]
  },
  {
   "cell_type": "markdown",
   "metadata": {
    "slideshow": {
     "slide_type": "fragment"
    }
   },
   "source": [
    "2. Problem formulation"
   ]
  },
  {
   "cell_type": "markdown",
   "metadata": {
    "slideshow": {
     "slide_type": "fragment"
    }
   },
   "source": [
    "3. Discrete time normalizing flows"
   ]
  },
  {
   "cell_type": "markdown",
   "metadata": {
    "slideshow": {
     "slide_type": "fragment"
    }
   },
   "source": [
    "4. Continuous time normalizing flows"
   ]
  },
  {
   "cell_type": "markdown",
   "metadata": {
    "slideshow": {
     "slide_type": "slide"
    }
   },
   "source": [
    "# Generative models"
   ]
  },
  {
   "cell_type": "markdown",
   "metadata": {
    "slideshow": {
     "slide_type": "subslide"
    }
   },
   "source": [
    "## Definition"
   ]
  },
  {
   "cell_type": "markdown",
   "metadata": {
    "slideshow": {
     "slide_type": "fragment"
    }
   },
   "source": [
    "Statistical models are usually divided in two classes: discriminative and generative <cite>[1, Ch.2]</cite>."
   ]
  },
  {
   "cell_type": "markdown",
   "metadata": {
    "slideshow": {
     "slide_type": "fragment"
    }
   },
   "source": [
    "- discriminative:<br>\n",
    "    Discriminative models are a class of statistical models encode the conditional distribution of the observation given the input\n",
    "    $$\n",
    "    \\begin{equation}\n",
    "        \\mathbb{P}(Y \\mid X)\n",
    "    \\end{equation}\n",
    "    $$\n",
    "    \n"
   ]
  },
  {
   "cell_type": "markdown",
   "metadata": {
    "slideshow": {
     "slide_type": "fragment"
    }
   },
   "source": [
    "- generative:<br>\n",
    "    Generative models on the other end encode the joint distribution of the input and the observation\n",
    "    $$\n",
    "    \\begin{equation}\n",
    "        \\mathbb{P}(X, Y)\n",
    "    \\end{equation}\n",
    "    $$"
   ]
  },
  {
   "cell_type": "markdown",
   "metadata": {
    "slideshow": {
     "slide_type": "subslide"
    }
   },
   "source": [
    "## Some examples:"
   ]
  },
  {
   "cell_type": "markdown",
   "metadata": {
    "slideshow": {
     "slide_type": "fragment"
    }
   },
   "source": [
    "| Discriminative | Generative |\n",
    "| --- | --- |\n",
    "| Logistic regression | Naive Bayes classifier |\n",
    "| Support vector machines | Gaussian Processes |\n",
    "| Decision trees | Bayesian Networks | \n",
    "| Neural Networks | ? |"
   ]
  },
  {
   "cell_type": "markdown",
   "metadata": {
    "slideshow": {
     "slide_type": "slide"
    }
   },
   "source": [
    "# Problem formulation"
   ]
  },
  {
   "cell_type": "markdown",
   "metadata": {
    "slideshow": {
     "slide_type": "subslide"
    }
   },
   "source": [
    "## The data generation problem\n",
    "\n",
    "We will consider the two following problems:\n"
   ]
  },
  {
   "cell_type": "markdown",
   "metadata": {
    "slideshow": {
     "slide_type": "fragment"
    }
   },
   "source": [
    "1. Given a series of observations $Y_n$'s, how do we calibrate a probabilistic model that is able to generate \"similar\" data?\n",
    "    For example, how can we generate handwritten numbers:"
   ]
  },
  {
   "cell_type": "code",
   "execution_count": 21,
   "metadata": {
    "slideshow": {
     "slide_type": "fragment"
    }
   },
   "outputs": [],
   "source": [
    "from sklearn.datasets import fetch_openml\n",
    "X, y = fetch_openml('mnist_784', version=1, return_X_y=True)"
   ]
  },
  {
   "cell_type": "code",
   "execution_count": 22,
   "metadata": {
    "slideshow": {
     "slide_type": "fragment"
    }
   },
   "outputs": [
    {
     "data": {
      "image/png": "[encoded data removed]",
      "text/plain": [
       "<Figure size 432x288 with 1 Axes>"
      ]
     },
     "metadata": {
      "needs_background": "light"
     },
     "output_type": "display_data"
    }
   ],
   "source": [
    "import matplotlib.pyplot as plt\n",
    "_ = plt.imshow(1 - X[0].reshape(28, 28), cmap=\"gray\")"
   ]
  },
  {
   "cell_type": "markdown",
   "metadata": {
    "slideshow": {
     "slide_type": "subslide"
    }
   },
   "source": [
    "2. Given a complicated likelihood function how do we sample from it? For example:"
   ]
  },
  {
   "cell_type": "code",
   "execution_count": 60,
   "metadata": {
    "slideshow": {
     "slide_type": "fragment"
    }
   },
   "outputs": [
    {
     "data": {
      "image/png": "[encoded data removed]",
      "text/plain": [
       "<Figure size 360x360 with 1 Axes>"
      ]
     },
     "metadata": {
      "needs_background": "light"
     },
     "output_type": "display_data"
    }
   ],
   "source": [
    "def square(x, y):\n",
    "    abs_x = np.abs(x)\n",
    "    abs_y = np.abs(y)\n",
    "    return 0.25 * np.exp(-4*(np.maximum(abs_x, abs_y) - 1) ** 2) / np.sqrt(np.pi)\n",
    "\n",
    "def plot_square():\n",
    "    linspace = np.linspace(-2., 2., 200)\n",
    "    mesh_x, mesh_y = np.meshgrid(linspace, linspace)\n",
    "    fig, ax = plt.subplots(figsize=(5, 5))\n",
    "    ax.set_aspect(\"equal\")\n",
    "    _ = ax.pcolormesh(mesh_x, mesh_y, 1. - square(mesh_x, mesh_y), cmap=\"gray\", shading='auto')\n",
    "\n",
    "plot_square()"
   ]
  },
  {
   "cell_type": "markdown",
   "metadata": {
    "slideshow": {
     "slide_type": "subslide"
    }
   },
   "source": [
    "## Non exhaustive solutions"
   ]
  },
  {
   "cell_type": "markdown",
   "metadata": {
    "slideshow": {
     "slide_type": "fragment"
    }
   },
   "source": [
    "1. Data registration:  \n",
    "    a. Variational auto-encoders  \n",
    "    b. Generative adversarial networks  \n",
    "    c. Normalizing flows"
   ]
  },
  {
   "cell_type": "markdown",
   "metadata": {
    "slideshow": {
     "slide_type": "fragment"
    }
   },
   "source": [
    "2. Distribution sampling:  \n",
    "    a. MCMC  \n",
    "    b. Normalizing flows"
   ]
  },
  {
   "attachments": {},
   "cell_type": "markdown",
   "metadata": {
    "slideshow": {
     "slide_type": "subslide"
    }
   },
   "source": [
    "1.a. VAE  \n",
    "    Learn a latent representation of the distribution \n",
    "    ![image-4.png](https://upload.wikimedia.org/wikipedia/commons/2/28/Autoencoder_structure.png)\n",
    "\n",
    "Image from Wikimedia. To go further see [2]."
   ]
  },
  {
   "attachments": {},
   "cell_type": "markdown",
   "metadata": {
    "slideshow": {
     "slide_type": "subslide"
    }
   },
   "source": [
    "1.b. GAN  \n",
    "    Learn to fool a expert networks, or more recently learn to minimize Wasserstein distance between true and generated. \n",
    "    $$\\underset{\\theta}{\\min} \\mathcal{W}\\bigg(G_\\theta, [Y_n]_{n=1}^N\\bigg)$$\n",
    "    \n",
    "To go further see [3]."
   ]
  },
  {
   "attachments": {},
   "cell_type": "markdown",
   "metadata": {
    "slideshow": {
     "slide_type": "subslide"
    }
   },
   "source": [
    "2.a. MCMC  \n",
    "    Acceptance-rejection method for exact sampling. "
   ]
  },
  {
   "cell_type": "code",
   "execution_count": 78,
   "metadata": {
    "slideshow": {
     "slide_type": "fragment"
    }
   },
   "outputs": [],
   "source": [
    "def mh(f, n=1000, seed=0):\n",
    "    rng = np.random.RandomState(seed)\n",
    "    arr = np.empty((n, 2))\n",
    "    x, y = rng.uniform(-1, 1, 2)\n",
    "    p = f(x, y)\n",
    "    for i in range(n):\n",
    "        eps_x, eps_y = rng.uniform(-1, 1, 2)\n",
    "        xi, yi = x + eps_x, y + eps_y\n",
    "        pi = f(xi, yi)\n",
    "        if rng.rand() <= pi / p:\n",
    "            x, y = xi, yi\n",
    "            p = pi\n",
    "        arr[i] = x, y\n",
    "    return arr"
   ]
  },
  {
   "cell_type": "code",
   "execution_count": 79,
   "metadata": {
    "slideshow": {
     "slide_type": "fragment"
    }
   },
   "outputs": [
    {
     "data": {
      "image/png": "[encoded data removed]",
      "text/plain": [
       "<Figure size 360x360 with 1 Axes>"
      ]
     },
     "metadata": {
      "needs_background": "light"
     },
     "output_type": "display_data"
    }
   ],
   "source": [
    "fig, ax = plt.subplots(figsize=(5, 5))\n",
    "ax.set_xlim(-2, 2), ax.set_ylim(-2, 2)\n",
    "_ = ax.scatter(*mh(square, 500).T)"
   ]
  },
  {
   "cell_type": "markdown",
   "metadata": {
    "slideshow": {
     "slide_type": "slide"
    }
   },
   "source": [
    "# Discrete time normalizing flows"
   ]
  },
  {
   "cell_type": "markdown",
   "metadata": {
    "slideshow": {
     "slide_type": "fragment"
    }
   },
   "source": [
    "Clearly the main "
   ]
  },
  {
   "cell_type": "markdown",
   "metadata": {
    "slideshow": {
     "slide_type": "fragment"
    }
   },
   "source": [
    "2. Variational auto-encoders"
   ]
  },
  {
   "cell_type": "markdown",
   "metadata": {
    "slideshow": {
     "slide_type": "fragment"
    }
   },
   "source": [
    "3. Generative adversorial networks"
   ]
  },
  {
   "cell_type": "code",
   "execution_count": null,
   "metadata": {},
   "outputs": [],
   "source": [
    "data = np.random.randn(2, 500)\n",
    "sizes = np.abs(data[1])\n",
    "fig, ax = plt.subplots()\n",
    "ax.scatter(*data, s=sizes * 100, c=sizes, cmap=plt.cm.viridis, vmin=-3, vmax=3)\n",
    "ax.set(title=\"Wow, such plot. So scatter. Much viridis.\")\n",
    "ax.set_axis_off()"
   ]
  },
  {
   "cell_type": "markdown",
   "metadata": {},
   "source": [
    "You can even change the code and update the plot in real-time!"
   ]
  },
  {
   "cell_type": "markdown",
   "metadata": {
    "slideshow": {
     "slide_type": "slide"
    }
   },
   "source": [
    "Let's see what these notebooks look like...\n",
    "\n",
    "github.com/binder-examples/requirements\n",
    "github.com/binder-examples/jupyterlab"
   ]
  },
  {
   "cell_type": "markdown",
   "metadata": {
    "slideshow": {
     "slide_type": "slide"
    }
   },
   "source": [
    "# References\n",
    "\n",
    "[1]: Jebara, Tony. Machine Learning: Discriminative and Generative, Springer US, 2004.  \n",
    "[2]: Doersch, Carl. Tutorial on variational autoencoders, arXiv:1606.05908.  \n",
    "[3]: Genevay, Aude and al. Learning Generative Models with Sinkhorn Divergences, AISTATS, 2018."
   ]
  },
  {
   "cell_type": "code",
   "execution_count": null,
   "metadata": {},
   "outputs": [],
   "source": [
    "@InProceedings{pmlr-v84-genevay18a, title = {Learning Generative Models with Sinkhorn Divergences}, author = {Aude Genevay and Gabriel Peyre and Marco Cuturi}, pages = {1608--1617}, year = {2018}, editor = {Amos Storkey and Fernando Perez-Cruz}, volume = {84}, series = {Proceedings of Machine Learning Research}, address = {Playa Blanca, Lanzarote, Canary Islands}, month = {09--11 Apr}, publisher = {PMLR}, pdf = {http://proceedings.mlr.press/v84/genevay18a/genevay18a.pdf}, url = {http://proceedings.mlr.press/v84/genevay18a.html}, abstract = {The ability to compare two degenerate probability distributions, that is two distributions supported on low-dimensional manifolds in much higher-dimensional spaces, is a crucial factor in the estimation of generative mod- els.It is therefore no surprise that optimal transport (OT) metrics and their ability to handle measures with non-overlapping sup- ports have emerged as a promising tool. Yet, training generative machines using OT raises formidable computational and statistical challenges, because of (i) the computational bur- den of evaluating OT losses, (ii) their instability and lack of smoothness, (iii) the difficulty to estimate them, as well as their gradients, in high dimension. This paper presents the first tractable method to train large scale generative models using an OT-based loss called Sinkhorn loss which tackles these three issues by relying on two key ideas: (a) entropic smoothing, which turns the original OT loss into a differentiable and more robust quantity that can be computed using Sinkhorn fixed point iterations; (b) algorithmic (automatic) differentiation of these iterations with seam- less GPU execution. Additionally, Entropic smoothing generates a family of losses interpolating between Wasserstein (OT) and Energy distance/Maximum Mean Discrepancy (MMD) losses, thus allowing to find a sweet spot leveraging the geometry of OT on the one hand, and the favorable high-dimensional sample complexity of MMD, which comes with un- biased gradient estimates. The resulting computational architecture complements nicely standard deep network generative models by a stack of extra layers implementing the loss function.} }"
   ]
  }
 ],
 "metadata": {
  "celltoolbar": "Slideshow",
  "kernelspec": {
   "display_name": "journal-club",
   "language": "python",
   "name": "journal-club"
  },
  "language_info": {
   "codemirror_mode": {
    "name": "ipython",
    "version": 3
   },
   "file_extension": ".py",
   "mimetype": "text/x-python",
   "name": "python",
   "nbconvert_exporter": "python",
   "pygments_lexer": "ipython3",
   "version": "3.7.6"
  },
  "livereveal": {
   "autolaunch": true,
   "scroll": true
  }
 },
 "nbformat": 4,
 "nbformat_minor": 2
}
